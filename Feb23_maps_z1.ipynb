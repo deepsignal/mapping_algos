{
  "nbformat": 4,
  "nbformat_minor": 0,
  "metadata": {
    "colab": {
      "provenance": [],
      "authorship_tag": "ABX9TyNK9tRxMlw1jAf1fZ0PfbDA",
      "include_colab_link": true
    },
    "kernelspec": {
      "name": "python3",
      "display_name": "Python 3"
    },
    "language_info": {
      "name": "python"
    }
  },
  "cells": [
    {
      "cell_type": "markdown",
      "metadata": {
        "id": "view-in-github",
        "colab_type": "text"
      },
      "source": [
        "<a href=\"https://colab.research.google.com/github/deepsignal/mapping_algos/blob/main/Feb23_maps_z1.ipynb\" target=\"_parent\"><img src=\"https://colab.research.google.com/assets/colab-badge.svg\" alt=\"Open In Colab\"/></a>"
      ]
    },
    {
      "cell_type": "markdown",
      "source": [
        "Maps code, using the new compression engine file. "
      ],
      "metadata": {
        "id": "ztwxJEt6w9JE"
      }
    },
    {
      "cell_type": "code",
      "source": [
        "from google.colab import drive  \n",
        "drive.mount('/content/gdrive')"
      ],
      "metadata": {
        "colab": {
          "base_uri": "https://localhost:8080/"
        },
        "id": "bOnejUrRxCDi",
        "outputId": "6469f984-ee16-4add-9320-3e4ac40a7088"
      },
      "execution_count": 5,
      "outputs": [
        {
          "output_type": "stream",
          "name": "stdout",
          "text": [
            "Mounted at /content/gdrive\n"
          ]
        }
      ]
    },
    {
      "cell_type": "code",
      "source": [
        "# experiments towards the tail end of dec 2022\n",
        "# adding roatation code, to manipulate points. \n",
        "import json"
      ],
      "metadata": {
        "id": "l9K1brBjzVZL"
      },
      "execution_count": 6,
      "outputs": []
    },
    {
      "cell_type": "code",
      "source": [
        "#copied_path = '/content/gdrive/MyDrive/combo_files/nlp_format_adriandevice.json'\n",
        "copied_path = '/content/gdrive/MyDrive/5db8f4ebbca6fe4cba7f6543_20221112_163300_20221112_164300_reassign.json' # taj single walkthru 5 min\n",
        "#copied_path = '/content/gdrive/MyDrive/dt_demoday_live_data_reassign.json' # DT_demo Steven Uhoto\n",
        "#copied_path = '/content/gdrive/MyDrive/taj_fullday_5db8f4ebbca6fe4cba7f6543_20221106_000000_20221106_230000_reassign.json'    # taj full dat\n",
        "\n",
        "with open(copied_path) as f:\n",
        "  compress_data = json.load(f)\n",
        "\n",
        "#print(len(compress_data[\"max_topology\"]))\n",
        "# 21\n",
        "\n",
        "with open(copied_path) as f:\n",
        "  compress_data = json.load(f)\n",
        "\n",
        "#print(len(compress_data[\"max_topology\"]))\n",
        "# 21"
      ],
      "metadata": {
        "id": "RZjjC5uixNvU"
      },
      "execution_count": 7,
      "outputs": []
    },
    {
      "cell_type": "code",
      "source": [
        "compress_data.keys()"
      ],
      "metadata": {
        "colab": {
          "base_uri": "https://localhost:8080/"
        },
        "id": "O1h-NA9E3BEy",
        "outputId": "e6ecb383-8830-40c9-dcd6-d23e18af6ef4"
      },
      "execution_count": 83,
      "outputs": [
        {
          "output_type": "execute_result",
          "data": {
            "text/plain": [
              "dict_keys(['all_location', 'topo1', 'topo2'])"
            ]
          },
          "metadata": {},
          "execution_count": 83
        }
      ]
    },
    {
      "cell_type": "code",
      "source": [
        "compress_data['topo1'].keys()"
      ],
      "metadata": {
        "colab": {
          "base_uri": "https://localhost:8080/"
        },
        "id": "5c8wk3pC3WLh",
        "outputId": "debbc1fe-04b3-4688-b39b-71a026fc758d"
      },
      "execution_count": 84,
      "outputs": [
        {
          "output_type": "execute_result",
          "data": {
            "text/plain": [
              "dict_keys(['topology', 'combo_occurrence', 'transition_info', 'combo_sequence', 'time_sequence'])"
            ]
          },
          "metadata": {},
          "execution_count": 84
        }
      ]
    },
    {
      "cell_type": "code",
      "source": [
        "compress_data['topo1']['combo_sequence'][1:5]"
      ],
      "metadata": {
        "colab": {
          "base_uri": "https://localhost:8080/"
        },
        "id": "TlOrlqkp3cwY",
        "outputId": "469b5982-4da7-4f13-807c-c89390279e61"
      },
      "execution_count": 85,
      "outputs": [
        {
          "output_type": "execute_result",
          "data": {
            "text/plain": [
              "[3, 15, 15, 21]"
            ]
          },
          "metadata": {},
          "execution_count": 85
        }
      ]
    },
    {
      "cell_type": "code",
      "source": [
        "len(compress_data['topo1']['combo_sequence'])"
      ],
      "metadata": {
        "colab": {
          "base_uri": "https://localhost:8080/"
        },
        "id": "uEF9p9Gy49Kb",
        "outputId": "dcf242d5-f99a-4ecb-cd2f-a469d22b0728"
      },
      "execution_count": 86,
      "outputs": [
        {
          "output_type": "execute_result",
          "data": {
            "text/plain": [
              "961"
            ]
          },
          "metadata": {},
          "execution_count": 86
        }
      ]
    },
    {
      "cell_type": "code",
      "source": [
        "# How many total combos are there in the time series\n",
        "len(set(compress_data['topo1']['combo_sequence']))"
      ],
      "metadata": {
        "colab": {
          "base_uri": "https://localhost:8080/"
        },
        "id": "jo4qgbJ38OKm",
        "outputId": "347ca4b4-c11e-4f5e-a1c6-a72d2e449883"
      },
      "execution_count": 87,
      "outputs": [
        {
          "output_type": "execute_result",
          "data": {
            "text/plain": [
              "56"
            ]
          },
          "metadata": {},
          "execution_count": 87
        }
      ]
    },
    {
      "cell_type": "code",
      "source": [
        "import numpy as np\n",
        "np.set_printoptions(suppress=True)\n",
        "np.set_printoptions(linewidth=np.inf)\n",
        "np.set_printoptions(precision=2)"
      ],
      "metadata": {
        "id": "NKOuVbgu4k2z"
      },
      "execution_count": 88,
      "outputs": []
    },
    {
      "cell_type": "code",
      "source": [
        "data1 = compress_data['topo1']['combo_sequence']\n",
        "\n",
        "# filter the time series using only selected combos\n",
        "data2 = []\n",
        "top_combos = 11 #12  # replace with a list of selections\n",
        "selected_combos = [i+1 for i in range(top_combos)]\n",
        "for i in data1:\n",
        "  if i in selected_combos:\n",
        "    data2.append(i)\n",
        "\n",
        "print(data2)\n"
      ],
      "metadata": {
        "colab": {
          "base_uri": "https://localhost:8080/"
        },
        "id": "WjNh-6bj9NFn",
        "outputId": "7fccc7ac-6689-4492-b4b3-a2502662c3f4"
      },
      "execution_count": 137,
      "outputs": [
        {
          "output_type": "stream",
          "name": "stdout",
          "text": [
            "[3, 3, 4, 4, 4, 4, 4, 4, 4, 4, 4, 4, 4, 4, 7, 7, 7, 7, 7, 7, 7, 7, 7, 7, 7, 7, 7, 7, 7, 7, 7, 7, 8, 8, 8, 8, 8, 8, 8, 1, 1, 1, 1, 1, 1, 1, 1, 1, 1, 1, 10, 6, 6, 6, 6, 6, 6, 1, 1, 1, 1, 1, 1, 6, 6, 6, 6, 6, 6, 10, 10, 1, 1, 1, 1, 1, 1, 1, 1, 1, 8, 3, 3, 3, 3, 9, 2, 2, 2, 2, 2, 2, 2, 2, 2, 2, 2, 2, 2, 2, 2, 2, 2, 2, 2, 2, 9, 9, 9, 2, 9, 2, 2, 2, 9, 9, 9, 2, 9, 2, 2, 2, 2, 9, 2, 8, 3, 3, 3, 6, 6, 3, 3, 3, 3, 11, 11, 11, 11, 4, 4, 4, 4, 4, 5, 5, 5, 5, 5, 5, 5, 5, 5, 5, 5, 5, 5, 5, 5, 5, 5, 1, 8, 1, 1, 1, 1, 1, 1, 1, 1, 1, 1, 10, 10, 6, 6, 6, 6, 10, 1, 1, 1, 1, 1, 1, 6, 6, 6, 6, 10, 10, 1, 1, 1, 1, 1, 1, 1, 1, 1, 1, 1, 1, 1, 8, 8, 8, 8, 3, 3, 3, 3, 2, 2, 2, 2, 2, 2, 2, 2, 2, 2, 2, 2, 9, 2, 2, 2, 2, 9, 2, 2, 2, 2, 2, 2, 9, 9, 2, 2, 2, 2, 2, 2, 2, 2, 2, 2, 2, 3, 3, 3, 3, 3, 1, 11, 3, 3, 3, 3, 3, 3, 6, 3, 3, 3, 11, 11, 11, 4, 4, 4, 4, 4, 4, 4, 4, 4, 4, 5, 5, 5, 5, 5, 5, 5, 5, 7, 7, 7, 7, 7, 7, 5, 5, 5, 5, 5, 3, 3, 3, 6, 3, 3, 3, 3, 3, 3, 3, 3, 3, 3, 3, 11, 11, 11, 11, 8, 8, 8, 1, 1, 1, 1, 1, 1, 1, 1, 1, 1, 1, 10, 10, 6, 6, 6, 6, 1, 1, 1, 1, 1, 1, 10, 10, 6, 10, 10, 10, 10, 1, 1, 1, 1, 1, 1, 1, 1, 1, 1, 1, 1, 8, 3, 2, 2, 2, 2, 5, 2, 2, 5, 5, 2, 5, 5, 9, 9, 2, 9, 2, 2, 2, 2, 2, 2, 2, 2, 2, 2, 2, 2, 2, 2, 2, 2, 9, 2, 2, 2, 2, 2, 2, 9, 9, 2, 2, 2, 2, 2, 3, 3, 3, 3, 8, 8, 8, 3, 3, 3, 3, 3, 3, 3, 3, 3, 6, 3, 3, 3, 3, 3, 11, 11, 11, 7, 7, 7, 7, 7, 7, 5, 5, 5, 4, 4, 4, 4, 4, 4, 4, 4, 4, 4, 4, 4, 4, 4, 5, 3, 3, 3, 6, 6, 3, 3, 3, 3, 3, 3, 3, 3, 6, 8, 1, 1, 1, 1, 1, 1, 1, 1, 1, 1, 1, 10, 6, 6, 6, 10, 1, 1, 1, 1, 1, 1, 1, 6, 6, 6, 10, 10, 10, 1, 1, 1, 1, 1, 1, 1, 1, 1, 1, 8, 8, 3, 3, 3, 6, 2, 2, 2, 2, 9, 2, 2, 2, 2, 9, 9, 9, 2, 2, 2, 2, 2, 2, 2, 2, 2, 2, 2, 2, 2, 2, 9, 9, 9, 5, 2, 2, 2, 2, 9, 5, 8, 11, 11, 11, 5, 5, 5, 5, 7, 7, 5, 5, 5, 5, 5, 5, 5, 5, 5, 4, 4, 4, 4, 4, 4, 4, 4, 4, 4, 4, 4, 4, 4, 4, 4, 3, 3, 3, 3, 3, 3, 3, 3, 3, 3, 3, 3, 3, 1, 1, 1, 1, 1, 1, 1, 1, 1, 1, 1, 10, 10, 6, 6, 6, 6, 1, 1, 1, 1, 1, 1, 1, 1, 10, 10, 10, 10, 10, 1, 1, 1, 1, 1, 1, 1, 1, 1, 1, 1, 1, 1, 8, 8, 3, 3, 3, 2, 5, 9, 2, 2, 2, 2, 2, 2, 2, 2, 2, 2, 9, 2, 9, 9, 9, 2, 2, 2, 2, 9, 2, 2, 2, 2, 8, 8, 8, 3, 3, 3, 3, 3, 6, 3, 3, 3, 3, 3, 3, 3, 3, 11, 11, 11, 11, 11, 11, 4, 4, 4, 4, 4, 4, 5, 5, 5, 5, 7, 7, 7, 7, 7, 7, 7, 5, 5, 5, 11, 11, 11, 11, 6, 3, 3, 3, 3, 3, 3, 3, 6, 6, 6, 6, 6, 3, 3, 3, 10, 8, 8, 8, 1, 1, 1, 1, 1, 1, 1, 1, 1, 1, 1, 1, 1, 10, 6, 6, 6, 10, 1, 1, 1, 1, 1, 6, 6, 6, 6, 6, 10, 10, 1, 1, 1, 1, 1, 1, 1, 1, 1, 8, 8, 3, 3, 2, 2]\n"
          ]
        }
      ]
    },
    {
      "cell_type": "code",
      "source": [
        "print(selected_combos)"
      ],
      "metadata": {
        "colab": {
          "base_uri": "https://localhost:8080/"
        },
        "id": "TY2jGhVQfnEM",
        "outputId": "c86957b4-25fc-47b6-bfd2-498a39862821"
      },
      "execution_count": 138,
      "outputs": [
        {
          "output_type": "stream",
          "name": "stdout",
          "text": [
            "[1, 2, 3, 4, 5, 6, 7, 8, 9, 10, 11]\n"
          ]
        }
      ]
    },
    {
      "cell_type": "code",
      "source": [
        "for i in range(20):\n",
        "  k = compress_data['topo1']['transition_info']['Combo'+str(i+1)] #['links']\n",
        "  #print('Combo'+str(i+1)+'::',k['links'], '<<<>>>', k['location'])\n",
        "  print('Combo'+str(i+1)+'::',k['links'])"
      ],
      "metadata": {
        "colab": {
          "base_uri": "https://localhost:8080/"
        },
        "id": "KQtjYdBtDMEt",
        "outputId": "6d2d30ec-b8c2-438b-cbda-315386d98ea2"
      },
      "execution_count": 139,
      "outputs": [
        {
          "output_type": "stream",
          "name": "stdout",
          "text": [
            "Combo1:: ['4C72700E0D.4C72700E1C', '4C72700E1C.4C72700E0D', '4C72700E1C.4C72700E2C', '4C72700E1C.f081731d0c40', '4C72700E2C.4C72700E1C']\n",
            "Combo2:: ['4C72700E2C.4C72700E2E', '4C72700E2E.4C72700E2C']\n",
            "Combo3:: ['4C72700E0D.4C72700E1C', '4C72700E1C.4C72700E0D']\n",
            "Combo4:: ['4C72700E1C.4C72700E2C', '4C72700E2C.4C72700E1C', '4C72700E2C.4C72700E2E', '4C72700E2C.58d34926c760', '4C72700E2E.4C72700E2C']\n",
            "Combo5:: ['4C72700E2C.4C72700E2E', '4C72700E2C.58d34926c760', '4C72700E2E.4C72700E2C']\n",
            "Combo6:: ['4C72700E0D.4C72700E1C', '4C72700E1C.4C72700E0D', '4C72700E1C.f081731d0c40']\n",
            "Combo7:: ['4C72700E2C.58d34926c760']\n",
            "Combo8:: ['4C72700E0D.4C72700E1C', '4C72700E1C.4C72700E0D', '4C72700E1C.4C72700E2C', '4C72700E2C.4C72700E1C']\n",
            "Combo9:: ['4C72700E1C.f081731d0c40', '4C72700E2C.4C72700E2E', '4C72700E2E.4C72700E2C']\n",
            "Combo10:: ['4C72700E0D.4C72700E1C', '4C72700E1C.4C72700E0D', '4C72700E1C.4C72700E2C', '4C72700E1C.f081731d0c40']\n",
            "Combo11:: ['4C72700E0D.4C72700E1C', '4C72700E1C.4C72700E0D', '4C72700E1C.4C72700E2C', '4C72700E2C.4C72700E1C', '4C72700E2C.4C72700E2E', '4C72700E2C.58d34926c760', '4C72700E2E.4C72700E2C']\n",
            "Combo12:: ['4C72700E0D.4C72700E1C', '4C72700E1C.4C72700E0D', '4C72700E1C.4C72700E2C', '4C72700E2C.4C72700E1C', '4C72700E2C.4C72700E2E', '4C72700E2E.4C72700E2C']\n",
            "Combo13:: ['4C72700E0D.4C72700E1C', '4C72700E1C.4C72700E0D', '4C72700E2C.4C72700E2E', '4C72700E2C.58d34926c760', '4C72700E2E.4C72700E2C']\n",
            "Combo14:: ['4C72700E1C.4C72700E2C', '4C72700E1C.f081731d0c40', '4C72700E2C.4C72700E1C', '4C72700E2C.4C72700E2E', '4C72700E2C.58d34926c760', '4C72700E2E.4C72700E2C']\n",
            "Combo15:: ['4C72700E0D.4C72700E1C', '4C72700E1C.4C72700E0D', '4C72700E2C.58d34926c760']\n",
            "Combo16:: ['4C72700E0D.4C72700E1C', '4C72700E1C.4C72700E0D', '4C72700E2C.4C72700E2E', '4C72700E2E.4C72700E2C']\n",
            "Combo17:: ['4C72700E1C.f081731d0c40']\n",
            "Combo18:: ['4C72700E1C.f081731d0c40', '4C72700E2C.4C72700E2E', '4C72700E2C.58d34926c760', '4C72700E2E.4C72700E2C']\n",
            "Combo19:: ['4C72700E0D.4C72700E1C', '4C72700E1C.f081731d0c40', '4C72700E2C.4C72700E2E', '4C72700E2E.4C72700E2C']\n",
            "Combo20:: ['4C72700E0D.4C72700E1C', '4C72700E1C.4C72700E0D', '4C72700E1C.4C72700E2C', '4C72700E1C.f081731d0c40', '4C72700E2C.4C72700E1C', '4C72700E2C.4C72700E2E', '4C72700E2E.4C72700E2C']\n"
          ]
        }
      ]
    },
    {
      "cell_type": "code",
      "source": [
        "for i in range(top_combos):\n",
        "  k = compress_data['topo1']['transition_info']['Combo'+str(i+1)] #['links']\n",
        "  #print('Combo'+str(i+1)+'::',k['links'], '<<<>>>', k['location'])\n",
        "  print('Combo'+str(i+1)+'::',k['links'])"
      ],
      "metadata": {
        "colab": {
          "base_uri": "https://localhost:8080/"
        },
        "id": "0xGuuFq8aQ9o",
        "outputId": "04cdd5e8-48ec-4a91-d67a-fb3d595927e5"
      },
      "execution_count": 140,
      "outputs": [
        {
          "output_type": "stream",
          "name": "stdout",
          "text": [
            "Combo1:: ['4C72700E0D.4C72700E1C', '4C72700E1C.4C72700E0D', '4C72700E1C.4C72700E2C', '4C72700E1C.f081731d0c40', '4C72700E2C.4C72700E1C']\n",
            "Combo2:: ['4C72700E2C.4C72700E2E', '4C72700E2E.4C72700E2C']\n",
            "Combo3:: ['4C72700E0D.4C72700E1C', '4C72700E1C.4C72700E0D']\n",
            "Combo4:: ['4C72700E1C.4C72700E2C', '4C72700E2C.4C72700E1C', '4C72700E2C.4C72700E2E', '4C72700E2C.58d34926c760', '4C72700E2E.4C72700E2C']\n",
            "Combo5:: ['4C72700E2C.4C72700E2E', '4C72700E2C.58d34926c760', '4C72700E2E.4C72700E2C']\n",
            "Combo6:: ['4C72700E0D.4C72700E1C', '4C72700E1C.4C72700E0D', '4C72700E1C.f081731d0c40']\n",
            "Combo7:: ['4C72700E2C.58d34926c760']\n",
            "Combo8:: ['4C72700E0D.4C72700E1C', '4C72700E1C.4C72700E0D', '4C72700E1C.4C72700E2C', '4C72700E2C.4C72700E1C']\n",
            "Combo9:: ['4C72700E1C.f081731d0c40', '4C72700E2C.4C72700E2E', '4C72700E2E.4C72700E2C']\n",
            "Combo10:: ['4C72700E0D.4C72700E1C', '4C72700E1C.4C72700E0D', '4C72700E1C.4C72700E2C', '4C72700E1C.f081731d0c40']\n",
            "Combo11:: ['4C72700E0D.4C72700E1C', '4C72700E1C.4C72700E0D', '4C72700E1C.4C72700E2C', '4C72700E2C.4C72700E1C', '4C72700E2C.4C72700E2E', '4C72700E2C.58d34926c760', '4C72700E2E.4C72700E2C']\n"
          ]
        }
      ]
    },
    {
      "cell_type": "code",
      "source": [
        "#compress_data['topo1']['transition_info']['Combo1']['location'].split(':')[0]\n",
        "compress_data['topo1']['topology']\n"
      ],
      "metadata": {
        "colab": {
          "base_uri": "https://localhost:8080/"
        },
        "id": "9yQDeQebaf6P",
        "outputId": "cc561de7-b1b7-47be-a090-789bea4c4eae"
      },
      "execution_count": 141,
      "outputs": [
        {
          "output_type": "execute_result",
          "data": {
            "text/plain": [
              "['4C72700E0D.4C72700E1C',\n",
              " '4C72700E1C.4C72700E0D',\n",
              " '4C72700E1C.4C72700E2C',\n",
              " '4C72700E1C.f081731d0c40',\n",
              " '4C72700E2C.4C72700E1C',\n",
              " '4C72700E2C.4C72700E2E',\n",
              " '4C72700E2C.58d34926c760',\n",
              " '4C72700E2E.4C72700E2C']"
            ]
          },
          "metadata": {},
          "execution_count": 141
        }
      ]
    },
    {
      "cell_type": "code",
      "source": [
        "# Converting each combo to a 'list of links' for similarity calculation\n",
        "lstoflinks = compress_data['topo1']['topology']\n",
        "linkset = compress_data['topo1']['transition_info']['Combo'+str(1)]['links']\n",
        "tok_out = [1 if i in lstoflinks else 0  for i in lstoflinks]\n",
        "\n",
        "print(tok_out)\n",
        "#print(linkset)\n",
        "\n",
        "token_sz = len(lstoflinks)\n",
        "all_tokens = np.zeros((top_combos,token_sz))\n",
        "for i in range(1,top_combos): # replace top_combos from a number to a list\n",
        "  linkset = compress_data['topo1']['transition_info']['Combo'+str(i)]['links']\n",
        "  all_tokens[i][:] = np.array([1 if i in linkset else 0  for i in lstoflinks])\n",
        "\n",
        "\n",
        "print(all_tokens)\n",
        "\n"
      ],
      "metadata": {
        "colab": {
          "base_uri": "https://localhost:8080/"
        },
        "id": "6vjuzsJpjjzS",
        "outputId": "7dc4ed5d-374f-43c2-d316-69b61ee87a51"
      },
      "execution_count": 142,
      "outputs": [
        {
          "output_type": "stream",
          "name": "stdout",
          "text": [
            "[1, 1, 1, 1, 1, 1, 1, 1]\n",
            "[[0. 0. 0. 0. 0. 0. 0. 0.]\n",
            " [1. 1. 1. 1. 1. 0. 0. 0.]\n",
            " [0. 0. 0. 0. 0. 1. 0. 1.]\n",
            " [1. 1. 0. 0. 0. 0. 0. 0.]\n",
            " [0. 0. 1. 0. 1. 1. 1. 1.]\n",
            " [0. 0. 0. 0. 0. 1. 1. 1.]\n",
            " [1. 1. 0. 1. 0. 0. 0. 0.]\n",
            " [0. 0. 0. 0. 0. 0. 1. 0.]\n",
            " [1. 1. 1. 0. 1. 0. 0. 0.]\n",
            " [0. 0. 0. 1. 0. 1. 0. 1.]\n",
            " [1. 1. 1. 1. 0. 0. 0. 0.]]\n"
          ]
        }
      ]
    },
    {
      "cell_type": "code",
      "source": [
        "# Rotating points across a given point\n",
        "\n",
        "def rotate(p, origin=(0, 0), degrees=0):\n",
        "    angle = np.deg2rad(degrees)\n",
        "    R = np.array([[np.cos(angle), -np.sin(angle)],\n",
        "                  [np.sin(angle),  np.cos(angle)]])\n",
        "    o = np.atleast_2d(origin)\n",
        "    p = np.atleast_2d(p)\n",
        "    return np.squeeze((R @ (p.T-o.T) + o.T).T)\n",
        "\n",
        "\n",
        "points=[(200, 300), (100, 300)]\n",
        "origin=(100,100)\n",
        "\n",
        "new_points = rotate(points, origin=origin, degrees=10)\n",
        "print(new_points)"
      ],
      "metadata": {
        "colab": {
          "base_uri": "https://localhost:8080/"
        },
        "id": "7GI_vnb1f7Th",
        "outputId": "2512fbeb-ccc2-4cac-adde-5f70921d06bf"
      },
      "execution_count": 143,
      "outputs": [
        {
          "output_type": "stream",
          "name": "stdout",
          "text": [
            "[[163.75 314.33]\n",
            " [ 65.27 296.96]]\n"
          ]
        }
      ]
    },
    {
      "cell_type": "code",
      "source": [
        "# Give tokens as input to the dimensionality reduction\n",
        "\n",
        "from sklearn.manifold import MDS\n",
        "from sklearn.manifold import LocallyLinearEmbedding\n",
        "from sklearn.manifold import Isomap\n",
        "from sklearn.manifold import SpectralEmbedding\n",
        "\n",
        "import warnings\n",
        "warnings.filterwarnings('ignore')\n",
        "\n",
        "\n",
        "#mds = MDS(2,metric=True, random_state=0,dissimilarity='precomputed')\n",
        "#X_2d = mds.fit_transform((markov_mat_inv_sym))\n",
        "#X_2d = mds.fit_transform((tr_mat))  # trying anothor distance type\n",
        "\n",
        "#embedding = LocallyLinearEmbedding(n_components=2, n_neighbors=4)\n",
        "#embedding = SpectralEmbedding(n_components=2,n_neighbors=3)\n",
        "embedding1 = Isomap(n_components=2, n_neighbors=4)\n",
        "TokenX_2d = embedding1.fit_transform(all_tokens)\n",
        "\n",
        "\n",
        "# preparing a dictionary of nodes\n",
        "from collections import OrderedDict\n",
        "node_dict=OrderedDict()\n",
        "node_labels = OrderedDict()\n",
        "\n",
        "# \n",
        "len_data = TokenX_2d.shape[0] #len(data_transition.keys())\n",
        "for i in range(1,len_data):\n",
        "    #print(i)\n",
        "    comboname='Combo'+str(i)   # \n",
        "    combo_loc = compress_data['topo1']['transition_info']['Combo'+str(i)]['location']\n",
        "    #print(combo_loc)\n",
        "    node_dict['Combo'+str(i)]=TokenX_2d[i] \n",
        "    node_labels['Combo'+str(i)]= '\\n\\n'+combo_loc.split(':')[0]\n",
        "\n",
        "import networkx as nx\n",
        "\n",
        "import matplotlib.pyplot as plt\n",
        "\n",
        "'''\n",
        "['fivethirtyeight',\n",
        " 'seaborn-pastel',\n",
        " 'seaborn-whitegrid',\n",
        " 'ggplot',\n",
        " 'grayscale']\n",
        " https://jakevdp.github.io/PythonDataScienceHandbook/04.11-settings-and-stylesheets.html\n",
        "'''\n",
        "plt.style.use('ggplot')\n",
        "plt.figure(figsize=(14,8))\n",
        "\n",
        "X = nx.Graph()\n",
        "X.add_nodes_from(node_dict.keys())\n",
        "#nx.draw_networkx_nodes(X,node_dict,node_labels)\n",
        "\n",
        "nx.draw_networkx(X, node_dict, node_labels, node_size = 250, width=3, edge_color = 'grey')\n",
        "nx.draw_networkx_labels(X, node_dict,node_labels)\n",
        "\n",
        "\n",
        "\n"
      ],
      "metadata": {
        "colab": {
          "base_uri": "https://localhost:8080/",
          "height": 640
        },
        "id": "rzFT9NldStH1",
        "outputId": "1f72eb28-7956-4835-ab25-50856cffc035"
      },
      "execution_count": 144,
      "outputs": [
        {
          "output_type": "execute_result",
          "data": {
            "text/plain": [
              "{'Combo1': Text(-2.689025545318492, 0.26017722294591766, '\\n\\n4C72700E1C '),\n",
              " 'Combo2': Text(1.7738596048864532, -0.4363859237113631, '\\n\\n4C72700E2E '),\n",
              " 'Combo3': Text(-0.9491183546295193, 0.22719492589034343, '\\n\\n4C72700E0D '),\n",
              " 'Combo4': Text(2.7703166187412935, 1.0629175711182615, '\\n\\n4C72700E2C '),\n",
              " 'Combo5': Text(2.1077223699171728, -0.06504930186964425, '\\n\\n4C72700E2E '),\n",
              " 'Combo6': Text(-1.4678083509610715, -0.9251327344160252, '\\n\\n4C72700E0D '),\n",
              " 'Combo7': Text(0.6906475620199175, 1.0171818889837143, '\\n\\n58d34926c760 '),\n",
              " 'Combo8': Text(-2.295696642799838, 0.42035935318680834, '\\n\\n4C72700E1C '),\n",
              " 'Combo9': Text(1.9898501359143337, -1.0597998281316325, '\\n\\n4C72700E2E '),\n",
              " 'Combo10': Text(-2.267314536721296, -0.024593191599910764, '\\n\\n4C72700E1C ')}"
            ]
          },
          "metadata": {},
          "execution_count": 144
        },
        {
          "output_type": "display_data",
          "data": {
            "text/plain": [
              "<Figure size 1008x576 with 1 Axes>"
            ],
            "image/png": "[encoded data removed]"
          },
          "metadata": {}
        }
      ]
    },
    {
      "cell_type": "code",
      "source": [
        "#points=[(200, 300), (100, 300)]\n",
        "origin=(0,0)\n",
        "new_points = rotate(TokenX_2d, origin=origin, degrees=10)\n",
        "print(new_points)"
      ],
      "metadata": {
        "colab": {
          "base_uri": "https://localhost:8080/"
        },
        "id": "E2J62xoDfutm",
        "outputId": "e6751551-ed2b-4753-d57e-1776053b6229"
      },
      "execution_count": 145,
      "outputs": [
        {
          "output_type": "stream",
          "name": "stdout",
          "text": [
            "[[ 0.41 -0.41]\n",
            " [-2.69 -0.21]\n",
            " [ 1.82 -0.12]\n",
            " [-0.97  0.06]\n",
            " [ 2.54  1.53]\n",
            " [ 2.09  0.3 ]\n",
            " [-1.28 -1.17]\n",
            " [ 0.5   1.12]\n",
            " [-2.33  0.02]\n",
            " [ 2.14 -0.7 ]\n",
            " [-2.23 -0.42]]\n"
          ]
        }
      ]
    },
    {
      "cell_type": "code",
      "source": [
        "# Example transition matrix creation\n",
        "\n",
        "data = [3, 0, 1, 3, 2, 6, 5, 4, 7, 5, 4]\n",
        "n = 11  # (this means there are 8 states in Markov chain from 0 - 7, both inclusive)\n",
        "step = 1\n",
        "\n",
        "def compute_transition_matrix(data, n, step = 1):\n",
        "    P = np.zeros((n, n))\n",
        "    T = np.zeros((n,n))\n",
        "    m = len(data)\n",
        "    for i in range(1,m):\n",
        "        initial, final = i, i+ step\n",
        "        if final < m:\n",
        "            P[data[initial]-1][data[final]-1] += 1 # adjust for Combo1 naming\n",
        "            T[data[initial]-1][data[final]-1] += 1\n",
        "\n",
        "    np.fill_diagonal(P, 2) # to reduce frequency effect\n",
        "    #np.fill_diagonal(P, np.sum(P, axis=1)) # \n",
        "    sums = np.sum(P, axis = 1)\n",
        "    for i in range(n):\n",
        "        for j in range(n):\n",
        "            P[i][j] = P[i][j] / sums[i]\n",
        "            #P[i][j] = P[i][j] \n",
        "    return P,T\n",
        "\n",
        "#print(compute_transition_matrix([3, 0, 1, 3, 2, 6, 5, 4, 7, 5, 4], 8, 1))"
      ],
      "metadata": {
        "id": "zoKmnLqh3vdB"
      },
      "execution_count": 146,
      "outputs": []
    },
    {
      "cell_type": "code",
      "source": [
        "tr_mat,count_mat = compute_transition_matrix(data2, top_combos, step = 1)\n",
        "print(count_mat)\n",
        "print(tr_mat)"
      ],
      "metadata": {
        "colab": {
          "base_uri": "https://localhost:8080/"
        },
        "id": "rXgr23M14fwG",
        "outputId": "ed5d60d4-ae43-404b-8720-ba1a7928be15"
      },
      "execution_count": 147,
      "outputs": [
        {
          "output_type": "stream",
          "name": "stdout",
          "text": [
            "[[153.   0.   0.   0.   0.   4.   0.   7.   0.   8.   1.]\n",
            " [  0. 119.   2.   0.   4.   0.   0.   2.  18.   0.   0.]\n",
            " [  2.   4.  94.   1.   0.   9.   0.   1.   1.   1.   5.]\n",
            " [  0.   0.   1.  57.   4.   0.   1.   0.   0.   0.   0.]\n",
            " [  1.   3.   2.   2.  47.   0.   3.   1.   2.   0.   1.]\n",
            " [  3.   1.   8.   0.   0.  38.   0.   1.   0.   8.   0.]\n",
            " [  0.   0.   0.   0.   4.   0.  34.   1.   0.   0.   0.]\n",
            " [  5.   0.   9.   0.   0.   0.   0.  20.   0.   0.   1.]\n",
            " [  0.  19.   0.   0.   2.   0.   0.   0.  13.   0.   0.]\n",
            " [  9.   0.   0.   0.   0.   7.   0.   1.   0.  16.   0.]\n",
            " [  0.   0.   1.   3.   1.   1.   1.   1.   0.   0.  20.]]\n",
            "[[0.09 0.   0.   0.   0.   0.18 0.   0.32 0.   0.36 0.05]\n",
            " [0.   0.07 0.07 0.   0.14 0.   0.   0.07 0.64 0.   0.  ]\n",
            " [0.08 0.15 0.08 0.04 0.   0.35 0.   0.04 0.04 0.04 0.19]\n",
            " [0.   0.   0.12 0.25 0.5  0.   0.12 0.   0.   0.   0.  ]\n",
            " [0.06 0.18 0.12 0.12 0.12 0.   0.18 0.06 0.12 0.   0.06]\n",
            " [0.13 0.04 0.35 0.   0.   0.09 0.   0.04 0.   0.35 0.  ]\n",
            " [0.   0.   0.   0.   0.57 0.   0.29 0.14 0.   0.   0.  ]\n",
            " [0.29 0.   0.53 0.   0.   0.   0.   0.12 0.   0.   0.06]\n",
            " [0.   0.83 0.   0.   0.09 0.   0.   0.   0.09 0.   0.  ]\n",
            " [0.47 0.   0.   0.   0.   0.37 0.   0.05 0.   0.11 0.  ]\n",
            " [0.   0.   0.1  0.3  0.1  0.1  0.1  0.1  0.   0.   0.2 ]]\n"
          ]
        }
      ]
    },
    {
      "cell_type": "code",
      "source": [
        "# plotting the sheer instance of combos switching to themselves\n",
        "\n",
        "# filter the time series using only selected combos\n",
        "data2_2 = []\n",
        "top_combos_2 = 20 #12  # replace with a list of selections\n",
        "selected_combos = [i+1 for i in range(top_combos_2)]\n",
        "for i in data1:\n",
        "  if i in selected_combos:\n",
        "    data2_2.append(i)\n",
        "\n",
        "#print(data2)\n",
        "tr_mat1,count_mat1 = compute_transition_matrix(data2_2, top_combos_2, step = 1)\n",
        "diag_tr = np.diag(count_mat1)\n",
        "plt.figure(figsize=(20,5))\n",
        "plt.plot(diag_tr)"
      ],
      "metadata": {
        "id": "p6TjSbSRjefk",
        "colab": {
          "base_uri": "https://localhost:8080/",
          "height": 340
        },
        "outputId": "9a5d6c7f-4a75-4628-cd35-39fdbda7e177"
      },
      "execution_count": 148,
      "outputs": [
        {
          "output_type": "execute_result",
          "data": {
            "text/plain": [
              "[<matplotlib.lines.Line2D at 0x7f77f6ef4250>]"
            ]
          },
          "metadata": {},
          "execution_count": 148
        },
        {
          "output_type": "display_data",
          "data": {
            "text/plain": [
              "<Figure size 1440x360 with 1 Axes>"
            ],
            "image/png": "[encoded data removed]"
          },
          "metadata": {}
        }
      ]
    },
    {
      "cell_type": "code",
      "source": [
        "#data2[1:30]\n",
        "# Play around with the transition matrix\n",
        "# Do some mods to the tr_mat, to try variations\n",
        "# variation1 , Mix this matrix with similarity measure based on link disturbances 0.75*main_tr + 0.25*\n",
        "\n",
        "\n"
      ],
      "metadata": {
        "id": "mR21PkfA6tyW"
      },
      "execution_count": 149,
      "outputs": []
    },
    {
      "cell_type": "code",
      "source": [
        "from sklearn.manifold import MDS\n",
        "from sklearn.manifold import LocallyLinearEmbedding\n",
        "from sklearn.manifold import Isomap\n",
        "from sklearn.manifold import SpectralEmbedding\n",
        "\n",
        "import warnings\n",
        "warnings.filterwarnings('ignore')\n",
        "\n",
        "\n",
        "#methods['LLE'] = LLE(method='standard')\n",
        "#methods['LTSA'] = LLE(method='ltsa')\n",
        "#methods['Hessian LLE'] = LLE(method='hessian')\n",
        "##methods['Modified LLE'] = LLE(method='modified')\n",
        "#methods['Isomap'] = manifold.Isomap(n_neighbors, n_components)\n",
        "#methods['MDS'] = manifold.MDS(n_components, max_iter=100, n_init=1)\n",
        "#methods['SE'] = manifold.SpectralEmbedding(n_components=n_components,\n",
        "#                                           n_neighbors=n_neighbors)\n",
        "#methods['t-SNE'] = manifold.TSNE(n_components=n_components, init='pca',\n",
        "#                                 random_state=0)\n",
        "\n",
        "\n",
        "#mds = MDS(2,metric=True, random_state=0,dissimilarity='precomputed')\n",
        "#X_2d = mds.fit_transform((markov_mat_inv_sym))\n",
        "#X_2d = mds.fit_transform((tr_mat))  # trying anothor distance type\n",
        "\n",
        "embedding = LocallyLinearEmbedding(n_components=2, n_neighbors=4)\n",
        "#embedding = SpectralEmbedding(n_components=2,n_neighbors=3)\n",
        "embedding = Isomap(n_components=2, n_neighbors=4)\n",
        "X_2d = embedding.fit_transform(tr_mat)"
      ],
      "metadata": {
        "id": "5Cm0RpaXEEfg"
      },
      "execution_count": 150,
      "outputs": []
    },
    {
      "cell_type": "code",
      "source": [
        "X_2d"
      ],
      "metadata": {
        "colab": {
          "base_uri": "https://localhost:8080/"
        },
        "id": "vICqFnSrlDbf",
        "outputId": "bd1242f7-648f-4278-f2d8-57129ecd930f"
      },
      "execution_count": 151,
      "outputs": [
        {
          "output_type": "execute_result",
          "data": {
            "text/plain": [
              "array([[-0.52,  0.17],\n",
              "       [ 0.55, -0.2 ],\n",
              "       [-0.1 , -0.24],\n",
              "       [ 0.35,  0.44],\n",
              "       [ 0.17, -0.04],\n",
              "       [-0.48, -0.12],\n",
              "       [ 0.19,  0.66],\n",
              "       [-0.3 , -0.06],\n",
              "       [ 0.54, -0.54],\n",
              "       [-0.51, -0.22],\n",
              "       [ 0.12,  0.15]])"
            ]
          },
          "metadata": {},
          "execution_count": 151
        }
      ]
    },
    {
      "cell_type": "code",
      "source": [
        "origin=(0,0)\n",
        "X_2d = rotate(X_2d, origin=origin, degrees=90)\n",
        "print(X_2d)"
      ],
      "metadata": {
        "colab": {
          "base_uri": "https://localhost:8080/"
        },
        "id": "8i1DA-WNoJEj",
        "outputId": "d7114182-a664-4c17-e8bc-4bd21533464b"
      },
      "execution_count": 152,
      "outputs": [
        {
          "output_type": "stream",
          "name": "stdout",
          "text": [
            "[[-0.17 -0.52]\n",
            " [ 0.2   0.55]\n",
            " [ 0.24 -0.1 ]\n",
            " [-0.44  0.35]\n",
            " [ 0.04  0.17]\n",
            " [ 0.12 -0.48]\n",
            " [-0.66  0.19]\n",
            " [ 0.06 -0.3 ]\n",
            " [ 0.54  0.54]\n",
            " [ 0.22 -0.51]\n",
            " [-0.15  0.12]]\n"
          ]
        }
      ]
    },
    {
      "cell_type": "code",
      "source": [
        "# preparing a dictionary of nodes\n",
        "from collections import OrderedDict\n",
        "node_dict=OrderedDict()\n",
        "node_labels = OrderedDict()\n",
        "\n",
        "# \n",
        "len_data = X_2d.shape[0] #len(data_transition.keys())\n",
        "for i in range(len_data):\n",
        "    #print(i)\n",
        "    comboname='Combo'+str(i)   # \n",
        "    combo_loc = compress_data['topo1']['transition_info']['Combo'+str(i+1)]['location']\n",
        "    #print(combo_loc)\n",
        "    node_dict['Combo'+str(i+1)]=X_2d[i]\n",
        "    node_labels['Combo'+str(i+1)]= '\\n\\n'+combo_loc.split(':')[0]"
      ],
      "metadata": {
        "id": "C2i8U8bylXW4"
      },
      "execution_count": 153,
      "outputs": []
    },
    {
      "cell_type": "code",
      "source": [
        "X_2d.shape[0]"
      ],
      "metadata": {
        "colab": {
          "base_uri": "https://localhost:8080/"
        },
        "id": "L7nwtj7LmJma",
        "outputId": "9641a613-c5c3-4838-a940-4069bbdd0c59"
      },
      "execution_count": 154,
      "outputs": [
        {
          "output_type": "execute_result",
          "data": {
            "text/plain": [
              "11"
            ]
          },
          "metadata": {},
          "execution_count": 154
        }
      ]
    },
    {
      "cell_type": "code",
      "source": [],
      "metadata": {
        "id": "1zLEL5Qekc9c"
      },
      "execution_count": 154,
      "outputs": []
    },
    {
      "cell_type": "code",
      "source": [
        "import networkx as nx\n",
        "\n",
        "X = nx.Graph()\n",
        "X.add_nodes_from(node_dict.keys())\n",
        "nx.draw_networkx_nodes(X,node_dict,node_labels)\n",
        "#nx.draw_networkx_labels(X,node_dict,node_labels)"
      ],
      "metadata": {
        "colab": {
          "base_uri": "https://localhost:8080/",
          "height": 265
        },
        "id": "ckKRQBwcmNJ5",
        "outputId": "26cbf498-1d63-4003-8818-6db3eefe3986"
      },
      "execution_count": 155,
      "outputs": [
        {
          "output_type": "execute_result",
          "data": {
            "text/plain": [
              "<matplotlib.collections.PathCollection at 0x7f77f6e57460>"
            ]
          },
          "metadata": {},
          "execution_count": 155
        },
        {
          "output_type": "display_data",
          "data": {
            "text/plain": [
              "<Figure size 432x288 with 1 Axes>"
            ],
            "image/png": "[encoded data removed]"
          },
          "metadata": {}
        }
      ]
    },
    {
      "cell_type": "code",
      "source": [
        "node_dict.keys()"
      ],
      "metadata": {
        "colab": {
          "base_uri": "https://localhost:8080/"
        },
        "id": "MBMvVyd6nUWy",
        "outputId": "1a154fe1-8128-468d-c700-06a0a62b9f52"
      },
      "execution_count": 156,
      "outputs": [
        {
          "output_type": "execute_result",
          "data": {
            "text/plain": [
              "odict_keys(['Combo1', 'Combo2', 'Combo3', 'Combo4', 'Combo5', 'Combo6', 'Combo7', 'Combo8', 'Combo9', 'Combo10', 'Combo11'])"
            ]
          },
          "metadata": {},
          "execution_count": 156
        }
      ]
    },
    {
      "cell_type": "code",
      "source": [
        "import matplotlib.pyplot as plt\n",
        "\n",
        "'''\n",
        "['fivethirtyeight',\n",
        " 'seaborn-pastel',\n",
        " 'seaborn-whitegrid',\n",
        " 'ggplot',\n",
        " 'grayscale']\n",
        " https://jakevdp.github.io/PythonDataScienceHandbook/04.11-settings-and-stylesheets.html\n",
        "'''\n",
        "plt.style.use('ggplot')\n",
        "plt.figure(figsize=(14,8))\n",
        "\n",
        "#T = nx.minimum_spanning_tree(X) \n",
        "nx.draw_networkx(X, node_dict, node_labels, node_size = 250, width=3, edge_color = 'grey')\n",
        "nx.draw_networkx_labels(X, node_dict,node_labels)\n",
        "#nx.draw(T, node_dict, with_labels = True)\n",
        "#plt.show()"
      ],
      "metadata": {
        "colab": {
          "base_uri": "https://localhost:8080/",
          "height": 657
        },
        "id": "Sch2E5GfoUpL",
        "outputId": "713a6394-9189-444c-967f-ede019c27b31"
      },
      "execution_count": 157,
      "outputs": [
        {
          "output_type": "execute_result",
          "data": {
            "text/plain": [
              "{'Combo1': Text(-0.17485436035968305, -0.5235712479842132, '\\n\\n4C72700E1C '),\n",
              " 'Combo2': Text(0.20406848391775745, 0.5477356188554594, '\\n\\n4C72700E2E '),\n",
              " 'Combo3': Text(0.23527691627147174, -0.09732276913896215, '\\n\\n4C72700E0D '),\n",
              " 'Combo4': Text(-0.43588821250254944, 0.34503112702103494, '\\n\\n4C72700E2C '),\n",
              " 'Combo5': Text(0.041302573859034304, 0.16645252776686867, '\\n\\n4C72700E2E '),\n",
              " 'Combo6': Text(0.11938202453149419, -0.481804495500295, '\\n\\n4C72700E0D '),\n",
              " 'Combo7': Text(-0.6642197918061509, 0.1921187720071717, '\\n\\n58d34926c760 '),\n",
              " 'Combo8': Text(0.06285306401617796, -0.29816119241831956, '\\n\\n4C72700E1C '),\n",
              " 'Combo9': Text(0.5439075558127493, 0.5414891014887805, '\\n\\n4C72700E2E '),\n",
              " 'Combo10': Text(0.21752162611683415, -0.5072579316804862, '\\n\\n4C72700E1C '),\n",
              " 'Combo11': Text(-0.14934987985713544, 0.11529048958296065, '\\n\\n4C72700E2C ')}"
            ]
          },
          "metadata": {},
          "execution_count": 157
        },
        {
          "output_type": "display_data",
          "data": {
            "text/plain": [
              "<Figure size 1008x576 with 1 Axes>"
            ],
            "image/png": "[encoded data removed]"
          },
          "metadata": {}
        }
      ]
    },
    {
      "cell_type": "code",
      "source": [
        "compress_data['topo1']['topology']"
      ],
      "metadata": {
        "colab": {
          "base_uri": "https://localhost:8080/"
        },
        "id": "qmio4la2pwuc",
        "outputId": "bbabfd53-90df-4181-c4a5-1fe2b36ab790"
      },
      "execution_count": 158,
      "outputs": [
        {
          "output_type": "execute_result",
          "data": {
            "text/plain": [
              "['4C72700E0D.4C72700E1C',\n",
              " '4C72700E1C.4C72700E0D',\n",
              " '4C72700E1C.4C72700E2C',\n",
              " '4C72700E1C.f081731d0c40',\n",
              " '4C72700E2C.4C72700E1C',\n",
              " '4C72700E2C.4C72700E2E',\n",
              " '4C72700E2C.58d34926c760',\n",
              " '4C72700E2E.4C72700E2C']"
            ]
          },
          "metadata": {},
          "execution_count": 158
        }
      ]
    },
    {
      "cell_type": "code",
      "source": [],
      "metadata": {
        "id": "k-u5Z6irnf__"
      },
      "execution_count": 158,
      "outputs": []
    },
    {
      "cell_type": "code",
      "source": [
        "# function() to take a combo number, and generate a new data sequence on already selected combos + the new combo\n",
        "## How would it take input from another combo/data/topology stream ??\n",
        "# Then count transitions of this to existing combos. \n",
        "# Match to combos existing in the current iteration (not required in this case)\n",
        "# "
      ],
      "metadata": {
        "id": "3klUk0Q55QAY"
      },
      "execution_count": 159,
      "outputs": []
    },
    {
      "cell_type": "code",
      "source": [
        "# Function to add a combo (in the same topology) to an existing map\n",
        "# A slightly easier version of adding a combo from a different topology to an exisitng map\n",
        "\n",
        "# filter the time series using only selected combos\n",
        "data1 = compress_data['topo1']['combo_sequence']\n",
        "data3 = []\n",
        "#top_combos = 7 #12  # replace with a list of selections\n",
        "selected_combos = [i+1 for i in range(top_combos)]\n",
        "additional_combo = [17]\n",
        "selected_combos.extend(additional_combo)\n",
        "for i in data1:\n",
        "  if i in selected_combos:\n",
        "    data3.append(i)\n",
        "\n",
        "print(data3)\n",
        "\n",
        "# compute a vector of transitions from new combo to exisitng ones\n",
        "def compute_transition_vector(data, n, step = 1, newcombo=17):\n",
        "    P = np.zeros(n)\n",
        "    T = np.zeros(n)\n",
        "    m = len(data)\n",
        "    for i in range(1,m-1):\n",
        "        initial, final = i, i+ step\n",
        "        if data[initial]!=newcombo and data[final]==newcombo:\n",
        "            P[data[initial]-1] += 1 # adjust for Combo1 naming\n",
        "            T[data[initial]-1] += 1\n",
        "            #print(final)\n",
        "\n",
        "    #np.fill_diagonal(P, 2) # to reduce frequency effect\n",
        "    #np.fill_diagonal(P, np.sum(P, axis=1)) # \n",
        "    #sums = np.sum(P, axis = 1)\n",
        "    #for i in range(n):\n",
        "    #    for j in range(n):\n",
        "    #        P[i][j] = P[i][j] / sums[i]\n",
        "    #        #P[i][j] = P[i][j] \n",
        "    return P,T\n",
        "\n",
        "#print(compute_transition_matrix([3, 0, 1, 3, 2, 6, 5, 4, 7, 5, 4], 8, 1))"
      ],
      "metadata": {
        "colab": {
          "base_uri": "https://localhost:8080/"
        },
        "id": "alth8rwAwpJ5",
        "outputId": "6213cb64-68a4-47ee-da81-96ff8a5d75c2"
      },
      "execution_count": 160,
      "outputs": [
        {
          "output_type": "stream",
          "name": "stdout",
          "text": [
            "[3, 3, 4, 4, 4, 4, 4, 4, 4, 4, 4, 4, 4, 4, 7, 7, 7, 7, 7, 7, 7, 7, 7, 7, 7, 7, 7, 7, 7, 7, 7, 7, 8, 8, 8, 8, 8, 8, 8, 1, 1, 1, 1, 1, 1, 1, 1, 1, 1, 1, 10, 6, 6, 6, 6, 6, 6, 1, 1, 1, 1, 1, 1, 6, 6, 6, 6, 6, 6, 10, 10, 1, 1, 1, 1, 1, 1, 1, 1, 1, 8, 3, 3, 3, 3, 17, 9, 2, 2, 2, 2, 2, 2, 2, 2, 2, 2, 2, 2, 2, 2, 2, 2, 2, 2, 2, 2, 9, 9, 17, 17, 9, 2, 9, 2, 2, 2, 9, 9, 9, 2, 9, 2, 2, 2, 2, 9, 2, 8, 3, 3, 3, 6, 6, 3, 3, 3, 3, 11, 11, 11, 11, 4, 4, 4, 4, 4, 5, 5, 5, 5, 5, 5, 5, 5, 5, 5, 5, 5, 5, 5, 5, 5, 5, 17, 17, 17, 1, 8, 1, 1, 1, 1, 1, 1, 1, 1, 1, 1, 10, 10, 6, 6, 6, 6, 10, 1, 1, 1, 1, 1, 1, 6, 6, 6, 6, 10, 10, 1, 1, 1, 1, 1, 1, 1, 1, 1, 1, 1, 1, 1, 8, 8, 8, 8, 3, 3, 3, 3, 2, 2, 2, 2, 2, 2, 2, 2, 2, 2, 2, 2, 9, 2, 2, 2, 2, 9, 2, 2, 2, 2, 2, 2, 9, 9, 2, 2, 2, 2, 2, 2, 2, 2, 2, 2, 2, 3, 3, 3, 3, 3, 1, 11, 3, 3, 3, 3, 3, 3, 6, 3, 3, 3, 11, 11, 11, 4, 4, 4, 4, 4, 4, 4, 4, 4, 4, 5, 5, 5, 5, 5, 5, 5, 5, 7, 7, 7, 7, 7, 7, 5, 5, 5, 5, 5, 3, 3, 3, 6, 3, 3, 3, 3, 3, 3, 3, 3, 3, 3, 3, 11, 11, 11, 11, 8, 8, 8, 1, 1, 1, 1, 1, 1, 1, 1, 1, 1, 1, 10, 10, 6, 6, 6, 6, 1, 1, 1, 1, 1, 1, 10, 10, 6, 10, 10, 10, 10, 1, 1, 1, 1, 1, 1, 1, 1, 1, 1, 1, 1, 8, 3, 2, 2, 2, 2, 5, 2, 2, 5, 5, 2, 5, 5, 9, 9, 2, 17, 9, 2, 2, 2, 2, 2, 2, 2, 2, 2, 2, 2, 2, 2, 2, 2, 2, 9, 2, 2, 2, 2, 2, 2, 9, 9, 2, 2, 2, 2, 2, 3, 3, 3, 3, 8, 8, 8, 3, 3, 3, 3, 3, 3, 3, 3, 3, 6, 3, 3, 3, 3, 3, 11, 11, 11, 7, 7, 7, 7, 7, 7, 5, 5, 5, 4, 4, 4, 4, 4, 4, 4, 4, 4, 4, 4, 4, 4, 4, 5, 3, 3, 3, 6, 6, 3, 3, 3, 3, 3, 3, 3, 3, 6, 8, 1, 1, 1, 1, 1, 1, 1, 1, 1, 1, 1, 10, 6, 6, 6, 10, 1, 1, 1, 1, 1, 1, 1, 6, 6, 6, 10, 10, 10, 1, 1, 1, 1, 1, 1, 1, 1, 1, 1, 8, 8, 3, 3, 3, 6, 2, 2, 2, 2, 9, 2, 2, 2, 2, 9, 9, 9, 2, 2, 2, 2, 2, 2, 2, 2, 2, 2, 2, 2, 2, 2, 9, 9, 9, 5, 2, 2, 2, 2, 9, 5, 8, 11, 11, 11, 5, 5, 5, 5, 7, 7, 5, 5, 5, 5, 5, 5, 5, 5, 5, 4, 4, 4, 4, 4, 4, 4, 4, 4, 4, 4, 4, 4, 4, 4, 4, 3, 3, 3, 3, 3, 3, 3, 3, 3, 3, 3, 3, 3, 1, 1, 1, 1, 1, 1, 1, 1, 1, 1, 1, 10, 10, 6, 6, 6, 6, 1, 1, 1, 1, 1, 1, 1, 1, 10, 10, 10, 10, 10, 1, 1, 1, 1, 1, 1, 1, 1, 1, 1, 1, 1, 1, 8, 8, 3, 3, 3, 2, 5, 9, 2, 2, 2, 2, 2, 2, 2, 2, 2, 2, 9, 2, 9, 9, 9, 2, 2, 2, 2, 9, 2, 2, 2, 2, 8, 8, 8, 3, 3, 3, 3, 3, 6, 3, 3, 3, 3, 3, 3, 3, 3, 11, 11, 11, 11, 11, 11, 4, 4, 4, 4, 4, 4, 5, 5, 5, 5, 7, 7, 7, 7, 7, 7, 7, 5, 5, 5, 11, 11, 11, 11, 6, 3, 3, 3, 3, 3, 3, 3, 6, 6, 6, 6, 6, 3, 3, 3, 10, 8, 8, 8, 1, 1, 1, 1, 1, 1, 1, 1, 1, 1, 1, 1, 1, 10, 6, 6, 6, 10, 1, 1, 1, 1, 1, 6, 6, 6, 6, 6, 10, 10, 1, 1, 1, 1, 1, 1, 1, 1, 1, 8, 8, 3, 3, 17, 17, 2, 2]\n"
          ]
        }
      ]
    },
    {
      "cell_type": "code",
      "source": [
        "P, T = compute_transition_vector(data3,top_combos,1,17)\n",
        "print(T)\n",
        "#selected_combos\n",
        "#data1.index(17)"
      ],
      "metadata": {
        "colab": {
          "base_uri": "https://localhost:8080/"
        },
        "id": "9n1uGkLE3GAO",
        "outputId": "94840df0-b16a-422f-a41a-8324b5a79da7"
      },
      "execution_count": 161,
      "outputs": [
        {
          "output_type": "stream",
          "name": "stdout",
          "text": [
            "[0. 1. 2. 0. 1. 0. 0. 0. 1. 0. 0.]\n"
          ]
        }
      ]
    },
    {
      "cell_type": "code",
      "source": [
        "T_norm = T/np.sum(T)\n",
        "print(T_norm)"
      ],
      "metadata": {
        "colab": {
          "base_uri": "https://localhost:8080/"
        },
        "id": "L4AQzdj2OwZL",
        "outputId": "7b929b73-bb5b-4872-a945-7ece043383ff"
      },
      "execution_count": 162,
      "outputs": [
        {
          "output_type": "stream",
          "name": "stdout",
          "text": [
            "[0.  0.2 0.4 0.  0.2 0.  0.  0.  0.2 0.  0. ]\n"
          ]
        }
      ]
    },
    {
      "cell_type": "code",
      "source": [
        "A = np.reshape(T_norm,(1,-1))  #converts into a 2D array with only one point, along the second dimension\n",
        "new_coord = embedding.transform(A)\n",
        "print(new_coord)"
      ],
      "metadata": {
        "colab": {
          "base_uri": "https://localhost:8080/"
        },
        "id": "avTn8tD5JcY0",
        "outputId": "9c1c8659-883b-4fc5-8e35-b8e7fedc2429"
      },
      "execution_count": 163,
      "outputs": [
        {
          "output_type": "stream",
          "name": "stdout",
          "text": [
            "[[0.   0.08]]\n"
          ]
        }
      ]
    },
    {
      "cell_type": "code",
      "source": [
        "\n",
        "# forming added node dict and node labels\n",
        "node_labels2 = OrderedDict()\n",
        "node_dict2 = OrderedDict()\n",
        "# \n",
        "len_data = X_2d.shape[0] #len(data_transition.keys())\n",
        "for i in range(len_data):\n",
        "    #print(i)\n",
        "    comboname='Combo'+str(i)   # \n",
        "    combo_loc = compress_data['topo1']['transition_info']['Combo'+str(i+1)]['location']\n",
        "    #print(combo_loc)\n",
        "    node_dict2['Combo'+str(i+1)]=X_2d[i]\n",
        "    node_labels2['Combo'+str(i+1)]= '\\n\\n'+combo_loc.split(':')[0]\n",
        "\n",
        "node_dict2['Combo17'] = new_coord[0]\n",
        "pos = new_coord[0]\n",
        "node_labels2['Combo17'] = 'Amazon'\n",
        "\n",
        "X2 = nx.Graph()\n",
        "X2.add_nodes_from(node_dict2.keys())\n",
        "#nx.draw_networkx_nodes(X,node_dict2,node_labels2)\n",
        "\n",
        "plt.style.use('ggplot')\n",
        "plt.figure(figsize=(14,8))\n",
        "\n",
        "nx.draw_networkx(X2, node_dict2, node_labels2, node_size = 250, width=3, edge_color = 'grey')\n",
        "nx.draw_networkx_labels(X2, node_dict2,node_labels2)\n",
        "\n",
        "\n",
        "pos = nx.spring_layout(X2)\n",
        "\n",
        "nx.draw_networkx_nodes(X2, node_dict2 , nodelist=['Combo17'], node_color='r')\n",
        "\n"
      ],
      "metadata": {
        "colab": {
          "base_uri": "https://localhost:8080/",
          "height": 483
        },
        "id": "tLnUL7Nkssaq",
        "outputId": "e556ece9-3582-4ff4-fa5a-571ed689505e"
      },
      "execution_count": 164,
      "outputs": [
        {
          "output_type": "execute_result",
          "data": {
            "text/plain": [
              "<matplotlib.collections.PathCollection at 0x7f77f6d5f6d0>"
            ]
          },
          "metadata": {},
          "execution_count": 164
        },
        {
          "output_type": "display_data",
          "data": {
            "text/plain": [
              "<Figure size 1008x576 with 1 Axes>"
            ],
            "image/png": "[encoded data removed]"
          },
          "metadata": {}
        }
      ]
    },
    {
      "cell_type": "code",
      "source": [
        "pos"
      ],
      "metadata": {
        "colab": {
          "base_uri": "https://localhost:8080/"
        },
        "id": "8ZqzAp_7uhUK",
        "outputId": "a418dc0f-9463-4aeb-ff1f-a2b7841f121a"
      },
      "execution_count": 51,
      "outputs": [
        {
          "output_type": "execute_result",
          "data": {
            "text/plain": [
              "{'Combo1': array([-0.4 , -0.86]),\n",
              " 'Combo2': array([ 0.32, -0.91]),\n",
              " 'Combo3': array([0.36, 0.74]),\n",
              " 'Combo4': array([ 0.9 , -0.45]),\n",
              " 'Combo5': array([0.82, 0.25]),\n",
              " 'Combo6': array([-0.89, -0.32]),\n",
              " 'Combo7': array([-0.9 ,  0.55]),\n",
              " 'Combo17': array([-0.21,  1.  ])}"
            ]
          },
          "metadata": {},
          "execution_count": 51
        }
      ]
    },
    {
      "cell_type": "code",
      "source": [
        "node_dict2"
      ],
      "metadata": {
        "colab": {
          "base_uri": "https://localhost:8080/"
        },
        "id": "dwLTemuDPfXN",
        "outputId": "4338570c-465a-4a97-ec16-614c513d7f9e"
      },
      "execution_count": 43,
      "outputs": [
        {
          "output_type": "execute_result",
          "data": {
            "text/plain": [
              "OrderedDict([('Combo1', array([ 0.2 , -0.54])),\n",
              "             ('Combo2', array([-0.25,  0.16])),\n",
              "             ('Combo3', array([ 0.25, -0.18])),\n",
              "             ('Combo4', array([0.01, 0.5 ])),\n",
              "             ('Combo5', array([0.02, 0.02])),\n",
              "             ('Combo6', array([-0.28, -0.56])),\n",
              "             ('Combo7', array([0.05, 0.6 ])),\n",
              "             ('Combo17', array([0.18, 0.08]))])"
            ]
          },
          "metadata": {},
          "execution_count": 43
        }
      ]
    },
    {
      "cell_type": "code",
      "source": [],
      "metadata": {
        "id": "k7WCgK_hqQpl"
      },
      "execution_count": null,
      "outputs": []
    },
    {
      "cell_type": "code",
      "source": [
        "# generating sequences for alignement\n",
        "seq1 = []\n",
        "seq2 = []\n",
        "\n",
        "for i in data2:\n",
        "  if i==1:\n",
        "    seq1.append(1)\n",
        "  elif i==4:\n",
        "    seq2.append(1)\n",
        "  else:\n",
        "    seq1.append(0)\n",
        "    seq2.append(0)\n",
        "\n",
        "\n",
        "    "
      ],
      "metadata": {
        "id": "CQS-Mv7J0KzY"
      },
      "execution_count": 35,
      "outputs": []
    },
    {
      "cell_type": "code",
      "source": [
        "plt.figure(figsize=(20,5))\n",
        "plt.plot(seq1)\n",
        "plt.plot(seq2)"
      ],
      "metadata": {
        "colab": {
          "base_uri": "https://localhost:8080/",
          "height": 337
        },
        "id": "ZjBm2I87is3P",
        "outputId": "16041bab-94d0-4884-df82-69dfae78d865"
      },
      "execution_count": 36,
      "outputs": [
        {
          "output_type": "execute_result",
          "data": {
            "text/plain": [
              "[<matplotlib.lines.Line2D at 0x7fd7af2e2ca0>]"
            ]
          },
          "metadata": {},
          "execution_count": 36
        },
        {
          "output_type": "display_data",
          "data": {
            "text/plain": [
              "<Figure size 1440x360 with 1 Axes>"
            ],
            "image/png": "[encoded data removed]"
          },
          "metadata": {}
        }
      ]
    },
    {
      "cell_type": "code",
      "source": [
        "a1 = np.correlate(seq2,seq1,'valid')\n",
        "\n",
        "plt.figure()\n",
        "plt.plot(a1)"
      ],
      "metadata": {
        "colab": {
          "base_uri": "https://localhost:8080/",
          "height": 282
        },
        "id": "VO22PbSRixju",
        "outputId": "e0c2ee40-a0fe-49a9-af86-64c83d48d1d4"
      },
      "execution_count": null,
      "outputs": [
        {
          "output_type": "execute_result",
          "data": {
            "text/plain": [
              "[<matplotlib.lines.Line2D at 0x7f8b1e437eb0>]"
            ]
          },
          "metadata": {},
          "execution_count": 44
        },
        {
          "output_type": "display_data",
          "data": {
            "text/plain": [
              "<Figure size 432x288 with 1 Axes>"
            ],
            "image/png": "[encoded data removed]"
          },
          "metadata": {}
        }
      ]
    },
    {
      "cell_type": "code",
      "source": [
        "from pydtw import dtw1d"
      ],
      "metadata": {
        "colab": {
          "base_uri": "https://localhost:8080/",
          "height": 304
        },
        "id": "ZHTpnORAkY3P",
        "outputId": "9f435460-d5c1-4dc5-fbd0-4ad6d7c1af70"
      },
      "execution_count": null,
      "outputs": [
        {
          "output_type": "error",
          "ename": "ModuleNotFoundError",
          "evalue": "ignored",
          "traceback": [
            "\u001b[0;31m---------------------------------------------------------------------------\u001b[0m",
            "\u001b[0;31mModuleNotFoundError\u001b[0m                       Traceback (most recent call last)",
            "\u001b[0;32m<ipython-input-82-b8401b275ee8>\u001b[0m in \u001b[0;36m<module>\u001b[0;34m\u001b[0m\n\u001b[0;32m----> 1\u001b[0;31m \u001b[0;32mfrom\u001b[0m \u001b[0mpydtw\u001b[0m \u001b[0;32mimport\u001b[0m \u001b[0mdtw1d\u001b[0m\u001b[0;34m\u001b[0m\u001b[0;34m\u001b[0m\u001b[0m\n\u001b[0m",
            "\u001b[0;31mModuleNotFoundError\u001b[0m: No module named 'pydtw'",
            "",
            "\u001b[0;31m---------------------------------------------------------------------------\u001b[0;32m\nNOTE: If your import is failing due to a missing package, you can\nmanually install dependencies using either !pip or !apt.\n\nTo view examples of installing some common dependencies, click the\n\"Open Examples\" button below.\n\u001b[0;31m---------------------------------------------------------------------------\u001b[0m\n"
          ],
          "errorDetails": {
            "actions": [
              {
                "action": "open_url",
                "actionText": "Open Examples",
                "url": "/notebooks/snippets/importing_libraries.ipynb"
              }
            ]
          }
        }
      ]
    },
    {
      "cell_type": "code",
      "source": [],
      "metadata": {
        "id": "0TKhTWMHyYjA"
      },
      "execution_count": null,
      "outputs": []
    }
  ]
}